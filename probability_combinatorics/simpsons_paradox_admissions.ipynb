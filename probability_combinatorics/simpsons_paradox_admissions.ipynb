{
 "metadata": {
  "name": "simpsons_paradox_admissions.ipynb"
 },
 "nbformat": 3,
 "nbformat_minor": 0,
 "worksheets": [
  {
   "cells": [
    {
     "cell_type": "heading",
     "level": 1,
     "metadata": {},
     "source": [
      "Analyzing the case of discrimination against women during the admission process at UC-Berkeley in 1973"
     ]
    },
    {
     "cell_type": "heading",
     "level": 2,
     "metadata": {},
     "source": [
      "Background"
     ]
    },
    {
     "cell_type": "markdown",
     "metadata": {
      "canopy_exercise": {
       "cell_type": "question"
      }
     },
     "source": [
      "In 1973, the University of California-Berkeley (UC-Berkley) was sued for sex discrimination. Its admission data showed that men applying to graduate school at UC-Berkley were more likely to be admitted than women.\n",
      "\n",
      "The graduate schools had just accepted 44% of male applicants but only 35% of female applicants. The difference was so great that it was unlikely to be due to chance."
     ]
    },
    {
     "cell_type": "markdown",
     "metadata": {
      "canopy_exercise": {
       "cell_type": "hint"
      }
     },
     "source": [
      "By looking at the data more closely, you may realize that there is more to the story than meets the eye."
     ]
    },
    {
     "cell_type": "heading",
     "level": 2,
     "metadata": {},
     "source": [
      "Data"
     ]
    },
    {
     "cell_type": "markdown",
     "metadata": {
      "canopy_exercise": {
       "cell_type": "question"
      }
     },
     "source": [
      "Download the [1973 UC-Berkley Graduate School Admission Data](http://www.calvin.edu/~stob/data/Berkeley.csv) and take a look yourself. This dataset contains information about the six most popular departments."
     ]
    },
    {
     "cell_type": "heading",
     "level": 2,
     "metadata": {},
     "source": [
      "Question"
     ]
    },
    {
     "cell_type": "markdown",
     "metadata": {
      "canopy_exercise": {
       "cell_type": "question"
      }
     },
     "source": [
      "Do you agree that UC-Berkeley discriminated against women during the admission process?"
     ]
    },
    {
     "cell_type": "heading",
     "level": 2,
     "metadata": {},
     "source": [
      "Solution"
     ]
    },
    {
     "cell_type": "markdown",
     "metadata": {
      "canopy_exercise": {
       "cell_type": "solution"
      }
     },
     "source": [
      "Let us first access the dataset."
     ]
    },
    {
     "cell_type": "code",
     "collapsed": false,
     "input": [
      "import matplotlib\n",
      "%matplotlib inline\n",
      "%automagic"
     ],
     "language": "python",
     "metadata": {
      "canopy_exercise": {
       "cell_type": "starting code"
      }
     },
     "outputs": [
      {
       "output_type": "stream",
       "stream": "stdout",
       "text": [
        "\n",
        "Automagic is ON, % prefix IS NOT needed for line magics.\n"
       ]
      }
     ],
     "prompt_number": 2
    },
    {
     "cell_type": "code",
     "collapsed": false,
     "input": [
      "from cStringIO import StringIO\n",
      "import pandas\n",
      "from pandas import DataFrame\n",
      "import requests\n",
      "\n",
      "############Wrangling Raw Data######################\n",
      "data_site = r'http://www.calvin.edu/~stob/data/Berkeley.csv'\n",
      "#get the csv file as an IO stream\n",
      "admit_io = StringIO(requests.get(data_site).text)\n",
      "\n",
      "#strip away nonsense from each line and get each line as a list of cells\n",
      "admit_io = [line.strip('\\n').strip('\\r').split(',') for line in admit_io]\n",
      "\n",
      "#get the field names from the first list\n",
      "fieldnames = admit_io[0]\n",
      "\n",
      "df=DataFrame(data=admit_io[1:], columns=fieldnames)\n",
      "df['Freq'] = df['Freq'].astype(float64)\n",
      "print df"
     ],
     "language": "python",
     "metadata": {
      "canopy_exercise": {
       "cell_type": "starting code"
      }
     },
     "outputs": [
      {
       "output_type": "stream",
       "stream": "stdout",
       "text": [
        "       Admit  Gender Dept  Freq\n",
        "0   Admitted    Male    A   512\n",
        "1   Rejected    Male    A   313\n",
        "2   Admitted  Female    A    89\n",
        "3   Rejected  Female    A    19\n",
        "4   Admitted    Male    B   353\n",
        "5   Rejected    Male    B   207\n",
        "6   Admitted  Female    B    17\n",
        "7   Rejected  Female    B     8\n",
        "8   Admitted    Male    C   120\n",
        "9   Rejected    Male    C   205\n",
        "10  Admitted  Female    C   202\n",
        "11  Rejected  Female    C   391\n",
        "12  Admitted    Male    D   138\n",
        "13  Rejected    Male    D   279\n",
        "14  Admitted  Female    D   131\n",
        "15  Rejected  Female    D   244\n",
        "16  Admitted    Male    E    53\n",
        "17  Rejected    Male    E   138\n",
        "18  Admitted  Female    E    94\n",
        "19  Rejected  Female    E   299\n",
        "20  Admitted    Male    F    22\n",
        "21  Rejected    Male    F   351\n",
        "22  Admitted  Female    F    24\n",
        "23  Rejected  Female    F   317\n"
       ]
      }
     ],
     "prompt_number": 10
    },
    {
     "cell_type": "markdown",
     "metadata": {
      "canopy_exercise": {
       "cell_type": "solution"
      }
     },
     "source": [
      "We are given a dataset that contains the Gender across 6 departments, with each department classifying applicants based on their admission status as either 'Admitted' or 'Rejected'.\n",
      "\n",
      "Let us find out the _total ratio of male admissions across all departments_ as against _total ratio of femael admissions across all departments_\n",
      "Indeed, when we look at the table above, \n",
      "We could consider this a frequency graph.\n",
      "\n",
      "\n",
      "\n"
     ]
    },
    {
     "cell_type": "code",
     "collapsed": false,
     "input": [
      "#total ratio of male admissions across all departments\n",
      "print \"total ratio of male admissions across all departments: {}\".\\\n",
      "format(df[df['Gender']=='Male'][df.Admit=='Admitted'].Freq.sum()/df[df['Gender']=='Male'].Freq.sum())\n",
      "\n",
      "#total ratio of female admissions across all departments\n",
      "print \"total ratio of female admissions across all departments: {}\".\\\n",
      "format(df[df['Gender']=='Female'][df.Admit=='Admitted'].Freq.sum()/df[df['Gender']=='Female'].Freq.sum())"
     ],
     "language": "python",
     "metadata": {
      "canopy_exercise": {
       "cell_type": "starting code"
      }
     },
     "outputs": [
      {
       "output_type": "stream",
       "stream": "stdout",
       "text": [
        "total ratio of male admissions across all departments: 0.445187662579\n",
        "total ratio of female admissions across all departments: 0.303542234332\n"
       ]
      }
     ],
     "prompt_number": 12
    },
    {
     "cell_type": "markdown",
     "metadata": {
      "canopy_exercise": {
       "cell_type": "solution"
      }
     },
     "source": [
      "Indeed, we can see that male admissions across all departments are roughly at ~44.5% and that of female are ~30%. But students were not applying to all departments and so taking an admission ratio across all departments may not be the correct approach. Finding the admission ratio per department per gender might be a better approach.\n",
      "\n",
      "Since prospective students had applied for a specific department, we cannot say anything about the gender biasing unless we investigate department wise what the figures are actually saying. \n",
      "\n",
      "Inshort, we want to find out admission ratio across each department based on the admission ratios of male per department and admission ratios of female per department.\n",
      "\n",
      "For that, lets first create a table each for male and female students admitted in 1976.\n"
     ]
    },
    {
     "cell_type": "heading",
     "level": 2,
     "metadata": {},
     "source": [
      "Descriptive Analysis"
     ]
    },
    {
     "cell_type": "code",
     "collapsed": false,
     "input": [
      "df_m = df[df['Gender'] == 'Male']\n",
      "df_f = df[df['Gender'] == 'Female']\n",
      "\n",
      "#Get the admissions ratios\n",
      "#each list comprehension is a Series. Append them together in one Series\n",
      "res_m=reduce(lambda x,y: x.append(y), [df_m[df_m.Admit=='Admitted']\\\n",
      "[df_m.Dept==dept].Freq/df_m[df_m['Dept']==dept].Freq.sum() \\\n",
      "for dept in df_m['Dept'][::2]])\n",
      "\n",
      "#join the Admission Ratio col to main DF\n",
      "df_m = df_m[df_m.Admit=='Admitted'].join\\\n",
      "(pandas.Series(res_m, name='Male Admission Ratio', dtype=float64))\n",
      "\n",
      "#Get the admissions ratios\n",
      "#each list comprehension is a Series. Append them together in one Series\n",
      "res_f=reduce(lambda x,y: x.append(y), [df_f[df_f.Admit=='Admitted']\\\n",
      "[df_f.Dept==dept].Freq/df_f[df_f['Dept']==dept].Freq.sum() \\\n",
      "for dept in df_f['Dept'][::2]])\n",
      "\n",
      "#join the Admission Ratio col to main DF\n",
      "df_f = df_f[df_f.Admit=='Admitted'].join\\\n",
      "(pandas.Series(res_f, name='Female Admission Ratio', dtype=float64))\n",
      "\n",
      "#male admission ratios table\n",
      "print \"male admission ratios table:\\n\"\n",
      "print df_m\n",
      "\n",
      "print \n",
      "\n",
      "#female admission ratios table\n",
      "print \"female admission ratios table:\\n\"\n",
      "print df_f\n"
     ],
     "language": "python",
     "metadata": {},
     "outputs": [
      {
       "output_type": "stream",
       "stream": "stdout",
       "text": [
        "male admission ratios table:\n",
        "\n",
        "       Admit Gender Dept  Freq  Male Admission Ratio\n",
        "0   Admitted   Male    A   512              0.620606\n",
        "4   Admitted   Male    B   353              0.630357\n",
        "8   Admitted   Male    C   120              0.369231\n",
        "12  Admitted   Male    D   138              0.330935\n",
        "16  Admitted   Male    E    53              0.277487\n",
        "20  Admitted   Male    F    22              0.058981\n",
        "\n",
        "female admission ratios table:\n",
        "\n",
        "       Admit  Gender Dept  Freq  Female Admission Ratio\n",
        "2   Admitted  Female    A    89                0.824074\n",
        "6   Admitted  Female    B    17                0.680000\n",
        "10  Admitted  Female    C   202                0.340641\n",
        "14  Admitted  Female    D   131                0.349333\n",
        "18  Admitted  Female    E    94                0.239186\n",
        "22  Admitted  Female    F    24                0.070381\n"
       ]
      }
     ],
     "prompt_number": 14
    },
    {
     "cell_type": "code",
     "collapsed": false,
     "input": [
      "\n",
      "bar(df_m['Freq'])"
     ],
     "language": "python",
     "metadata": {
      "canopy_exercise": {
       "cell_type": "starting code"
      }
     },
     "outputs": [
      {
       "ename": "TypeError",
       "evalue": "bar() takes at least 2 arguments (1 given)",
       "output_type": "pyerr",
       "traceback": [
        "\u001b[1;31m---------------------------------------------------------------------------\u001b[0m\n\u001b[1;31mTypeError\u001b[0m                                 Traceback (most recent call last)",
        "\u001b[1;32m<ipython-input-19-683189ccaa77>\u001b[0m in \u001b[0;36m<module>\u001b[1;34m()\u001b[0m\n\u001b[0;32m      1\u001b[0m \u001b[1;33m\u001b[0m\u001b[0m\n\u001b[1;32m----> 2\u001b[1;33m \u001b[0mbar\u001b[0m\u001b[1;33m(\u001b[0m\u001b[0mdf_m\u001b[0m\u001b[1;33m[\u001b[0m\u001b[1;34m'Freq'\u001b[0m\u001b[1;33m]\u001b[0m\u001b[1;33m)\u001b[0m\u001b[1;33m\u001b[0m\u001b[0m\n\u001b[0m",
        "\u001b[1;31mTypeError\u001b[0m: bar() takes at least 2 arguments (1 given)"
       ]
      }
     ],
     "prompt_number": 19
    },
    {
     "cell_type": "code",
     "collapsed": false,
     "input": [],
     "language": "python",
     "metadata": {},
     "outputs": []
    },
    {
     "cell_type": "code",
     "collapsed": false,
     "input": [
      "##########Getting Descriptive Statistics#################\n",
      "\n",
      "#take Population mean Admission ratio across all departments\n",
      "male_admits = (df_m['Male Admission Ratio']).tolist()\n",
      "female_admits = (df_f['Female Admission Ratio']).tolist()\n",
      "\n",
      "#take the population size of above admission metric\n",
      "male_sample_size = len(df_m['Male Admission Ratio'])\n",
      "female_sample_size = len(df_m['Male Admission Ratio'])\n",
      "\n",
      "#take admission ratios mean\n",
      "male_mean = df_m['Male Admission Ratio'].mean()\n",
      "female_mean = df_f['Female Admission Ratio'].mean()\n",
      "\n",
      "\n",
      "print \"Mean of departmental admission ratios across all dept. for males:\\n%s\"\\\n",
      "% male_mean\n",
      "print\n",
      "print \"Mean of departmental admission ratios across all dept. for females:\\n%s\"\\\n",
      "% female_mean"
     ],
     "language": "python",
     "metadata": {},
     "outputs": [
      {
       "output_type": "stream",
       "stream": "stdout",
       "text": [
        "Mean of departmental admission ratios across all dept. for males:\n",
        "0.381266228122\n",
        "\n",
        "Mean of departmental admission ratios across all dept. for females:\n",
        "0.41726919986\n"
       ]
      }
     ],
     "prompt_number": 24
    },
    {
     "cell_type": "code",
     "collapsed": false,
     "input": [
      "%cd C:\\\\Users\\\\Asus s\\\\Desktop\\\\AKULs Files\\\\principles_of_computing\\\\probability_combinatorics\n",
      "%pwd()\n",
      "from py_variance_std import se_pooled_t, df_independent_sample, critical_t,calc_t_independent_sample, t_percentile"
     ],
     "language": "python",
     "metadata": {},
     "outputs": [
      {
       "output_type": "stream",
       "stream": "stdout",
       "text": [
        "C:\\Users\\Asus s\\Desktop\\AKULs Files\\principles_of_computing\\probability_combinatorics\n"
       ]
      }
     ],
     "prompt_number": 34
    },
    {
     "cell_type": "code",
     "collapsed": false,
     "input": [
      "#Take Pooled STD DEV of Independent Male Female Admission Ratios\n",
      "pooled_se_admit = se_pooled_t(male_admits, female_admits)\n",
      "\n",
      "#Take Independent DF\n",
      "independent_pop_sample_df = \\\n",
      "df_independent_sample(male_sample_size, female_sample_size)\n",
      "\n",
      "#Two sided Critical T Value\n",
      "critical_t_val = critical_t(95, independent_pop_sample_df, 0)\n",
      "\n",
      "#T score\n",
      "t_score = calc_t_independent_sample(male_mean, female_mean, pooled_se_admit)\n",
      "\n",
      "t_per = t_percentile(t_score, independent_pop_sample_df)\n",
      "\n",
      "print \"Is T Percentile significant?: %s < 0.05 => %s\" %(t_per, t_per < 0.05)\n",
      "\n",
      "print \"Is T score significant?: %s > %s => %s\" %(t_score,critical_t_val,t_score > critical_t_val)\n",
      "\n",
      "marginal_err = critical_t_val * pooled_se_admit\n",
      "\n",
      "print r\"For a 95 percentile C.I. of Female Admissions Ratio mean of %s is between %s and %s\" \\\n",
      "%(female_mean, female_mean-marginal_err, female_mean+marginal_err)"
     ],
     "language": "python",
     "metadata": {
      "canopy_exercise": {
       "cell_type": "starting code"
      }
     },
     "outputs": [
      {
       "output_type": "stream",
       "stream": "stdout",
       "text": [
        "Is T Percentile significant?: 0.815178360968 < 0.05 => False\n",
        "Is T score significant?: 0.24 > 2.228 => False\n",
        "For a 95 percentile C.I. of Female Admissions Ratio mean of 0.41726919986 is between 0.0830691998598 and 0.75146919986\n"
       ]
      }
     ],
     "prompt_number": 46
    },
    {
     "cell_type": "code",
     "collapsed": false,
     "input": [],
     "language": "python",
     "metadata": {},
     "outputs": []
    }
   ],
   "metadata": {}
  }
 ]
}