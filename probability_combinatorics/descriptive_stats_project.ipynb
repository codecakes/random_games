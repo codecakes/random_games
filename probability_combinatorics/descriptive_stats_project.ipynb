{
 "metadata": {
  "name": "descriptive_stats_project.ipynb"
 },
 "nbformat": 3,
 "nbformat_minor": 0,
 "worksheets": [
  {
   "cells": [
    {
     "cell_type": "markdown",
     "metadata": {
      "canopy_exercise": {
       "cell_type": "question"
      }
     },
     "source": [
      "Questions for Investigation\n",
      "\n",
      "This experiment will require the use of a standard deck of playing cards. This is a deck of fifty-two cards divided into four suits (spades (\u2660), hearts (\u2665), diamonds (\u2666), and clubs (\u2663)), each suit containing thirteen cards (Ace, numbers 2-10, and face cards Jack, Queen, and King). You can use either a physical deck of cards for this experiment or you may use a virtual deck of cards such as that found on random.org (http://www.random.org/playing-cards/).\n",
      "For the purposes of this task, assign each card a value: The Ace takes a value of 1, numbered cards take the value printed on the card, and the Jack, Queen, and King each take a value of 10.\n",
      "\n",
      "1. First, create a histogram depicting the relative frequencies of the card values.\n",
      "2. Now, we will get samples for a new distribution. Shuffle your deck of cards and draw three cards from it. (You will be sampling from the deck without replacement.) Record the cards that you have drawn and the sum of the three cards\u2019 values. Repeat this sampling procedure a total of at least thirty times.\n",
      "3. Let\u2019s take a look at the distribution of the card sums. Report descriptive statistics for the samples you have drawn. Include at least two measures of central tendency and two measures of variability.\n",
      "4. Create a histogram of the sampled card sums you have recorded. Compare its shape to that of the original distribution. How are they different, and can you explain why this is the case?\n",
      "5. Make some estimates about values you will get on future draws. Within what range will you expect approximately 90% of your draw values to fall? What is the approximate probability that you will get a draw value of at least 20? Make sure you justify how you obtained your values."
     ]
    },
    {
     "cell_type": "markdown",
     "metadata": {
      "canopy_exercise": {
       "cell_type": "question"
      }
     },
     "source": [
      "The Rubric:\n",
      "===========\n",
      "\n",
      "[^1][^2]\n",
      "\n",
      "[^1]: <https://docs.google.com/document/d/1gVCBsThTXBkUtMiccc4Rj5XT8I9h4ji0bpqTe2uUxRg/pub#>\n",
      "\n",
      "[^2]: <https://docs.google.com/document/d/1gVCBsThTXBkUtMiccc4Rj5XT8I9h4ji0bpqTe2uUxRg/pub#>\n",
      "\n",
      "Criteria\n",
      "\n",
      "Responses to Project Questions\n",
      "\n",
      "Question 1: Plotting a histogram of card values\n",
      "\n",
      "Question 2: Obtain samples from a deck of cards\n",
      "\n",
      "Question 3: Report descriptive statistics regarding sample taken\n",
      "\n",
      "Question 4: Plotting a histogram of sampled values\n",
      "\n",
      "Question 5: Making estimates based on the sampled distribution\n",
      "\n",
      "Does Not Meet Specifications\n",
      "\n",
      "Meets Specifications\n",
      "\n",
      "The histogram does not accurately reflect the card values\u2019 relative frequency distribution or no histogram is provided.\n",
      "\n",
      "A histogram is provided that accurately reflects the card values\u2019 relative frequency distribution.\n",
      "\n",
      "Sampled data is not provided, insufficient, or does not reflect the experiment being performed for the project.\n",
      "\n",
      "At least thirty samples have been performed and the summed values from each sample have been reported in a submitted spreadsheet.\n",
      "\n",
      "Two measures of central tendency and variability are not reported to describe the sample or are not computed correctly.\n",
      "\n",
      "At least two measures of central tendency and two measures of variability are accurately reported to summarize and describe the samples taken for Question 2.\n",
      "\n",
      "The histogram does not accurately reflect sampled values or no histogram is provided. No discussion of the shape of the distribution is provided or comparison is not well-justified.\n",
      "\n",
      "A histogram accurately reflecting the sampled data is provided. Discussion of the shape is provided, including a comparison to that of the histogram of the original card values.\n",
      "\n",
      "Estimates made for the prompted questions do not reflect the values obtained from the sample.\n",
      "\n",
      "Estimates are made for the prompted questions that reflect the samples taken and their distribution.\n"
     ]
    },
    {
     "cell_type": "markdown",
     "metadata": {
      "canopy_exercise": {
       "cell_type": "solution"
      }
     },
     "source": [
      "Lets start with a rough draft of generating a deck of cards.\n",
      "Lets create 4 suites first.\n",
      "Lets create a dictionary of each suite in the deck named *deck*"
     ]
    },
    {
     "cell_type": "code",
     "collapsed": false,
     "input": [
      "import matplotlib\n",
      "%matplotlib inline\n",
      "from matplotlib.pylab import hist\n",
      "\n",
      "import numpy as np\n",
      "from numpy import mean, std, var\n",
      "\n",
      "from pprint import pprint"
     ],
     "language": "python",
     "metadata": {
      "canopy_exercise": {
       "cell_type": "starting code"
      }
     },
     "outputs": [],
     "prompt_number": 32
    },
    {
     "cell_type": "code",
     "collapsed": false,
     "input": [
      "heart_suite = {\"H\": [str(i) + 'H' for i in ['A']+range(2,11)+['J', 'Q', 'K']]}\n",
      "\n",
      "diamond_suite = {\"D\": [str(i) + 'D' for i in ['A']+range(2,11)+['J', 'Q', 'K']]}\n",
      "\n",
      "club_suite = {\"C\": [str(i) + 'C' for i in ['A']+range(2,11)+['J', 'Q', 'K']]}\n",
      "\n",
      "spade_suite = {\"S\": [str(i) + 'S' for i in ['A']+range(2,11)+['J', 'Q', 'K']]}\n",
      "\n",
      "deck = (heart_suite, diamond_suite, club_suite, spade_suite)\n",
      "\n",
      "deck = {k:{value:num+1 for num, value in enumerate(cardict[k])} for cardict in deck for k in cardict.iterkeys()}\n",
      "\n",
      "print deck\n"
     ],
     "language": "python",
     "metadata": {
      "canopy_exercise": {
       "cell_type": "starting code"
      }
     },
     "outputs": [
      {
       "output_type": "stream",
       "stream": "stdout",
       "text": [
        "{'S': {'QS': 12, '2S': 2, '3S': 3, '4S': 4, '5S': 5, 'JS': 11, 'KS': 13, 'AS': 1, '6S': 6, '7S': 7, '10S': 10, '8S': 8, '9S': 9}, 'H': {'9H': 9, '8H': 8, '6H': 6, 'AH': 1, 'KH': 13, '10H': 10, '7H': 7, '3H': 3, 'JH': 11, '5H': 5, '4H': 4, 'QH': 12, '2H': 2}, 'C': {'KC': 13, 'AC': 1, '6C': 6, '7C': 7, '8C': 8, '9C': 9, 'QC': 12, '2C': 2, '3C': 3, '10C': 10, '4C': 4, '5C': 5, 'JC': 11}, 'D': {'7D': 7, '6D': 6, 'AD': 1, 'KD': 13, '9D': 9, '8D': 8, '2D': 2, '10D': 10, 'JD': 11, '5D': 5, '4D': 4, 'QD': 12, '3D': 3}}\n"
       ]
      }
     ],
     "prompt_number": 13
    },
    {
     "cell_type": "markdown",
     "metadata": {
      "canopy_exercise": {
       "cell_type": "solution"
      }
     },
     "source": [
      "Lets create a function to pick a pseudo random card out of 4 randomly selected cards from the dictionary of 4 suites."
     ]
    },
    {
     "cell_type": "code",
     "collapsed": false,
     "input": [
      "def random_deck_card(deck):\n",
      "    selection = ({t[0]:deck[t[0]][t[1]] \\\n",
      "    for t in \\\n",
      "    [(k, random.choice(deck[k].keys())) \\\n",
      "    for k in deck.iterkeys()]})\n",
      "    res = random.choice(selection.keys())\n",
      "    return res, selection[res]"
     ],
     "language": "python",
     "metadata": {
      "canopy_exercise": {
       "cell_type": "starting code"
      }
     },
     "outputs": [],
     "prompt_number": 14
    },
    {
     "cell_type": "markdown",
     "metadata": {
      "canopy_exercise": {
       "cell_type": "solution"
      }
     },
     "source": [
      "Lets create a function to generate as asked in the question, a list of 30 samples with each of their sums, from 3 random selections using random_deck_card and *deck* "
     ]
    },
    {
     "cell_type": "code",
     "collapsed": false,
     "input": [
      "def sum_shuffled_cards(deck, mini_range, grand_range):\n",
      "    return [(lambda x: (x, sum([i[1] for i in x])))([random_deck_card(deck) \\\n",
      "    for _ in xrange(mini_range)]) for _ in xrange(grand_range)]"
     ],
     "language": "python",
     "metadata": {
      "canopy_exercise": {
       "cell_type": "starting code"
      }
     },
     "outputs": [],
     "prompt_number": 15
    },
    {
     "cell_type": "code",
     "collapsed": false,
     "input": [
      "#the historgram of this is almost uniform. for instance;\n",
      "all_cards = reduce(lambda x,y: (x+y), [[i for i in xrange(len(dct))] for dct in deck.itervalues()])\n",
      "\n",
      "print hist(all_cards)"
     ],
     "language": "python",
     "metadata": {
      "canopy_exercise": {
       "cell_type": "starting code"
      }
     },
     "outputs": [
      {
       "output_type": "stream",
       "stream": "stdout",
       "text": [
        "(array([ 8.,  4.,  4.,  4.,  4.,  8.,  4.,  4.,  4.,  8.]), array([  0. ,   1.2,   2.4,   3.6,   4.8,   6. ,   7.2,   8.4,   9.6,\n",
        "        10.8,  12. ]), <a list of 10 Patch objects>)\n"
       ]
      }
     ],
     "prompt_number": 26
    },
    {
     "cell_type": "markdown",
     "metadata": {
      "canopy_exercise": {
       "cell_type": "solution"
      }
     },
     "source": [
      "Lets create a histogram of 30 samples from 3 randomly picked cards each time."
     ]
    },
    {
     "cell_type": "code",
     "collapsed": false,
     "input": [
      "shuffled_cards = sum_shuffled_cards(deck, 3, 30)\n",
      "print hist(zip(*shuffled_cards)[1])"
     ],
     "language": "python",
     "metadata": {
      "canopy_exercise": {
       "cell_type": "solution"
      }
     },
     "outputs": [
      {
       "output_type": "stream",
       "stream": "stdout",
       "text": [
        "(array([ 1.,  2.,  2.,  4.,  2.,  5.,  5.,  4.,  3.,  2.]), array([  6. ,   8.7,  11.4,  14.1,  16.8,  19.5,  22.2,  24.9,  27.6,\n",
        "        30.3,  33. ]), <a list of 10 Patch objects>)\n"
       ]
      },
      {
       "metadata": {},
       "output_type": "display_data",
       "png": "[encoded data removed]",
       "text": [
        "<matplotlib.figure.Figure at 0xa4049e8>"
       ]
      }
     ],
     "prompt_number": 33
    },
    {
     "cell_type": "markdown",
     "metadata": {
      "canopy_exercise": {
       "cell_type": "solution"
      }
     },
     "source": [
      "Lets see the shuffled cards"
     ]
    },
    {
     "cell_type": "code",
     "collapsed": false,
     "input": [
      "pprint(shuffled_cards)\n"
     ],
     "language": "python",
     "metadata": {
      "canopy_exercise": {
       "cell_type": "solution"
      }
     },
     "outputs": [
      {
       "output_type": "stream",
       "stream": "stdout",
       "text": [
        "[([('H', 8), ('C', 3), ('D', 5)], 16),\n",
        " ([('C', 10), ('H', 2), ('H', 11)], 23),\n",
        " ([('H', 3), ('S', 2), ('H', 4)], 9),\n",
        " ([('C', 10), ('D', 1), ('H', 10)], 21),\n",
        " ([('D', 8), ('H', 12), ('H', 12)], 32),\n",
        " ([('H', 4), ('S', 2), ('D', 9)], 15),\n",
        " ([('D', 1), ('H', 4), ('C', 1)], 6),\n",
        " ([('D', 2), ('S', 12), ('D', 12)], 26),\n",
        " ([('S', 3), ('D', 2), ('H', 8)], 13),\n",
        " ([('H', 10), ('H', 8), ('S', 8)], 26),\n",
        " ([('C', 6), ('S', 9), ('C', 3)], 18),\n",
        " ([('D', 7), ('C', 10), ('S', 12)], 29),\n",
        " ([('S', 1), ('C', 1), ('S', 8)], 10),\n",
        " ([('S', 2), ('D', 9), ('D', 11)], 22),\n",
        " ([('D', 3), ('C', 6), ('S', 7)], 16),\n",
        " ([('D', 11), ('S', 6), ('S', 11)], 28),\n",
        " ([('D', 11), ('D', 9), ('C', 6)], 26),\n",
        " ([('S', 7), ('D', 10), ('H', 12)], 29),\n",
        " ([('H', 8), ('D', 5), ('D', 6)], 19),\n",
        " ([('D', 6), ('S', 11), ('H', 6)], 23),\n",
        " ([('C', 5), ('D', 9), ('D', 2)], 16),\n",
        " ([('C', 11), ('H', 12), ('H', 10)], 33),\n",
        " ([('H', 2), ('C', 10), ('S', 8)], 20),\n",
        " ([('H', 7), ('S', 13), ('D', 4)], 24),\n",
        " ([('S', 11), ('D', 10), ('H', 3)], 24),\n",
        " ([('S', 3), ('H', 7), ('C', 3)], 13),\n",
        " ([('H', 8), ('C', 2), ('D', 11)], 21),\n",
        " ([('C', 13), ('S', 11), ('C', 3)], 27),\n",
        " ([('H', 5), ('D', 6), ('C', 9)], 20),\n",
        " ([('C', 8), ('S', 11), ('H', 5)], 24)]\n"
       ]
      }
     ],
     "prompt_number": 34
    },
    {
     "cell_type": "markdown",
     "metadata": {
      "canopy_exercise": {
       "cell_type": "solution"
      }
     },
     "source": [
      "Lets analyze the sample distribution of samples."
     ]
    },
    {
     "cell_type": "code",
     "collapsed": false,
     "input": [
      "sum_samples = zip(*shuffled_cards)[1]\n",
      "\n",
      "\n",
      "\n",
      "#standard error\n",
      "all_cards_std = np.std(all_cards)\n",
      "se = all_cards_std/len(sum_samples)\n",
      "\n",
      "#mean\n",
      "sum_samples_mean = mean(sum_samples)\n",
      "print \"Average of list of Sum of all samples: {}\\n\".format(sum_samples_mean)\n",
      "print hist(sum_samples)\n",
      "#std deviation\n",
      "sum_sample_std = sum([(x - sum_samples_mean)**2 for x in sum_samples])/float(len(sum_samples)-1)\n",
      "print \"\\nUnbiased STD DEV of list of sum of all samples std: {}\\n\".format(sum_sample_std)\n",
      "print \"Standard Error of distribution of 30 sample size of 3 samples each: {}\\n\".format(se)\n",
      "\n",
      "print \"Average of list of Sum of all cards: {}\\n\".format(mean(all_cards))\n",
      "print hist(all_cards)\n",
      "print \"STD DEV Of all Cards in a suite: {}\\n\".format(all_cards_std)\n",
      "\n",
      "\n",
      "#the histrogram plot - averaging at around 20.9666666667\n",
      "print hist(zip(*shuffled_cards)[1])"
     ],
     "language": "python",
     "metadata": {},
     "outputs": [
      {
       "output_type": "stream",
       "stream": "stdout",
       "text": [
        "Average of list of Sum of all samples: 20.9666666667\n",
        "\n",
        "(array([ 1.,  2.,  2.,  4.,  2.,  5.,  5.,  4.,  3.,  2.]), array([  6. ,   8.7,  11.4,  14.1,  16.8,  19.5,  22.2,  24.9,  27.6,\n",
        "        30.3,  33. ]), <a list of 10 Patch objects>)\n",
        "\n",
        "Unbiased STD DEV of list of sum of all samples std: 45.9643678161\n"
       ]
      },
      {
       "output_type": "stream",
       "stream": "stdout",
       "text": [
        "\n",
        "Standard Error of distribution of 30 sample size of 3 samples each: 0.124721912892\n",
        "\n",
        "Average of list of Sum of all cards: 6.0\n",
        "\n",
        "(array([ 8.,  4.,  4.,  4.,  4.,  8.,  4.,  4.,  4.,  8.]), array([  0. ,   1.2,   2.4,   3.6,   4.8,   6. ,   7.2,   8.4,   9.6,\n",
        "        10.8,  12. ]), <a list of 10 Patch objects>)\n",
        "STD DEV Of all Cards in a suite: 3.74165738677\n",
        "\n",
        "(array([ 1.,  2.,  2.,  4.,  2.,  5.,  5.,  4.,  3.,  2.]), array([  6. ,   8.7,  11.4,  14.1,  16.8,  19.5,  22.2,  24.9,  27.6,\n",
        "        30.3,  33. ]), <a list of 10 Patch objects>)\n"
       ]
      },
      {
       "metadata": {},
       "output_type": "display_data",
       "png": "[encoded data removed]",
       "text": [
        "<matplotlib.figure.Figure at 0xa410390>"
       ]
      }
     ],
     "prompt_number": 42
    },
    {
     "cell_type": "markdown",
     "metadata": {
      "canopy_exercise": {
       "cell_type": "solution"
      }
     },
     "source": [
      "There are 2 histograms.\n",
      "Green: Distribution of all cards in a Deck- The distribution is uniform because each card is exactly 4 in number.\n",
      "Re: Distribution shows almost a normal curve. This is because we took 30 samples fo 3 random picks of cards per turn and it shows the most likely/frequent value it sums upto, averaging at around 20.96 ~ 21 - which mean on an average the 3 rounds we picked, summed up to around 21. Had we taken not **sum** but **MEAN** and then sampled them, it would have been more normal, smoother, skinnier. \n",
      "\n",
      "\n",
      "Now lets, calculate the SE, Mean and Standard Deviation of this sample of mean plot against the SE, Mean and Standard Deviation of the plot for summed samples. It is shone in the graph below of what happens if we dont sum but take Mean of each times and then take 30 samples of each mean, what will be its mean."
     ]
    },
    {
     "cell_type": "code",
     "collapsed": false,
     "input": [
      "shuffled_cards_sample_mean = [mean([i[1] for i in each_stack[0]]) for each_stack in shuffled_cards]\n",
      "print hist(shuffled_cards_sample_mean)\n",
      "print hist(sum_samples)\n",
      "\n",
      "print \"\\nAverage of list of Sum of all samples: {}\\n\".format(sum_samples_mean)\n",
      "print \"\\nUnbiased STD DEV of list of sum of all samples std: {}\\n\".format(sum_sample_std)\n",
      "print \"Standard Error of distribution of 30 sample size of 3 samples each: {}\\n\".format(se)\n",
      "\n",
      "\n",
      "#mean and std deviation\n",
      "mean_shuffled_cards_sample_mean = mean(shuffled_cards_sample_mean)\n",
      "print \"Average of list of Mean of all samples: {}\\n\".format(mean_shuffled_cards_sample_mean)\n",
      "shuffled_cards_sample_mean_std = sum([(x - mean_shuffled_cards_sample_mean)**2 for x in shuffled_cards_sample_mean])/float(len(shuffled_cards_sample_mean)-1)\n",
      "print \"\\nUnbiased STD DEV of list of sum of all samples std: {}\\n\".format(shuffled_cards_sample_mean_std)\n",
      "mean_se = std(shuffled_cards_sample_mean)/len(shuffled_cards_sample_mean)\n",
      "print \"Standard Error of distribution of 30 sample size of 3 samples each: {}\\n\".format(mean_se)\n"
     ],
     "language": "python",
     "metadata": {
      "canopy_exercise": {
       "cell_type": "starting code"
      }
     },
     "outputs": [
      {
       "output_type": "stream",
       "stream": "stdout",
       "text": [
        "(array([ 1.,  2.,  2.,  4.,  2.,  5.,  5.,  4.,  3.,  2.]), array([  2. ,   2.9,   3.8,   4.7,   5.6,   6.5,   7.4,   8.3,   9.2,\n",
        "        10.1,  11. ]), <a list of 10 Patch objects>)\n",
        "(array([ 1.,  2.,  2.,  4.,  2.,  5.,  5.,  4.,  3.,  2.]), array([  6. ,   8.7,  11.4,  14.1,  16.8,  19.5,  22.2,  24.9,  27.6,\n",
        "        30.3,  33. ]), <a list of 10 Patch objects>)\n",
        "\n",
        "Average of list of Sum of all samples: 20.9666666667\n",
        "\n",
        "\n",
        "Unbiased STD DEV of list of sum of all samples std: 45.9643678161\n",
        "\n",
        "Standard Error of distribution of 30 sample size of 3 samples each: 0.124721912892\n",
        "\n",
        "Average of list of Mean of all samples: 6.98888888889\n",
        "\n",
        "\n",
        "Unbiased STD DEV of list of sum of all samples std: 5.10715197957\n",
        "\n",
        "Standard Error of distribution of 30 sample size of 3 samples each: 0.0740638881886\n",
        "\n"
       ]
      },
      {
       "metadata": {},
       "output_type": "display_data",
       "png": "[encoded data removed]",
       "text": [
        "<matplotlib.figure.Figure at 0xa6aca20>"
       ]
      }
     ],
     "prompt_number": 45
    },
    {
     "cell_type": "markdown",
     "metadata": {
      "canopy_exercise": {
       "cell_type": "solution"
      }
     },
     "source": [
      "As we can see from above, the difference between sampling:\n",
      "\n",
      "1. Means\n",
      "and\n",
      "2. Sums\n",
      "is the thickness of distribution.\n",
      "\n",
      "We can note:\n",
      "\n",
      "1. Standard Error of distribution of 30 sample size of mean of 3 samples each: 0.0740638881886\n",
      "while,\n",
      "2. Standard Error of distribution of 30 sample size of sum of 3 samples each: 0.124721912892;\n",
      "\n",
      "which means SE of Mean Samples is lower than of Sum Samples.\n",
      "and\n",
      "Average has come down from ~21 to 6.98888888889 which is alot closer to Average of list of Sum of all cards: 6.0;\n",
      "\n",
      "However, In the function **sum_shuffled_cards** If we raise the mini_range from 3 to say 30 and grand_range from 30 to 1000, the curve will be even smoother and skinnier with narrower tails meaning, the average will become more defined and precise.\n"
     ]
    },
    {
     "cell_type": "code",
     "collapsed": false,
     "input": [],
     "language": "python",
     "metadata": {
      "canopy_exercise": {
       "cell_type": "starting code"
      }
     },
     "outputs": []
    }
   ],
   "metadata": {}
  }
 ]
}